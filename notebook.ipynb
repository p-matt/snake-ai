{
 "cells": [
  {
   "cell_type": "code",
   "execution_count": 1,
   "metadata": {
    "collapsed": true
   },
   "outputs": [],
   "source": [
    "from sklearn.linear_model import LinearRegression\n",
    "from sklearn.model_selection import train_test_split\n",
    "import pickle\n",
    "import pandas as pd\n",
    "import numpy as np\n",
    "from pycaret.regression import *\n",
    "import keras\n",
    "from keras.layers import BatchNormalization\n",
    "from tensorflow.keras.optimizers import Adam\n",
    "from keras import layers\n",
    "import matplotlib.pyplot as plt\n",
    "from keras import backend as K\n",
    "from tensorflow.keras.callbacks import EarlyStopping, ModelCheckpoint"
   ]
  },
  {
   "cell_type": "code",
   "execution_count": 47,
   "outputs": [],
   "source": [
    "with open(\"asset/data/100/X1.pickle\", \"rb\") as handle:\n",
    "    X = pickle.load(handle)\n",
    "with open(\"asset/data/100/y1.pickle\", \"rb\") as handle:\n",
    "    y = pickle.load(handle)\n",
    "with open(\"asset/data/100/X.pickle\", \"rb\") as handle:\n",
    "    Xa = pickle.load(handle)\n",
    "with open(\"asset/data/100/y.pickle\", \"rb\") as handle:\n",
    "    ya = pickle.load(handle)"
   ],
   "metadata": {
    "collapsed": false,
    "pycharm": {
     "name": "#%%\n"
    }
   }
  },
  {
   "cell_type": "code",
   "execution_count": 63,
   "outputs": [
    {
     "data": {
      "text/plain": "(array([ 100100.,       0.,       0.,       0.,       0., 1069830.,\n          18817.,  205066.,  489974.,  274473.]),\n array([-1. , -0.8, -0.6, -0.4, -0.2,  0. ,  0.2,  0.4,  0.6,  0.8,  1. ]),\n <BarContainer object of 10 artists>)"
     },
     "execution_count": 63,
     "metadata": {},
     "output_type": "execute_result"
    },
    {
     "data": {
      "text/plain": "<Figure size 576x396 with 1 Axes>",
      "image/png": "[encoded data removed]"
     },
     "metadata": {},
     "output_type": "display_data"
    }
   ],
   "source": [
    "plt.hist(y)"
   ],
   "metadata": {
    "collapsed": false,
    "pycharm": {
     "name": "#%%\n"
    }
   }
  },
  {
   "cell_type": "code",
   "execution_count": 88,
   "outputs": [],
   "source": [
    "lr = .0003\n",
    "epochs = 200\n",
    "model_name = \"DNN_Regressor\"\n",
    "es_callback = EarlyStopping(monitor='val_loss', min_delta=.0001, patience=5, verbose=0, mode='auto')\n",
    "checkpoint_callback = ModelCheckpoint(f\"asset/models/{model_name}.h5\", monitor='val_loss', verbose=1, save_best_only=True, mode='min')\n",
    "\n",
    "def r2(y_true, y_pred):\n",
    "    SS_res = K.sum(K.square(y_true-y_pred))\n",
    "    SS_tot = K.sum(K.square(y_true - K.mean(y_true)))\n",
    "    return 1 - SS_res / (SS_tot + K.epsilon())\n",
    "\n",
    "def build_and_compile_model():\n",
    "    model = keras.Sequential([\n",
    "        layers.Dense(32, activation='relu'),\n",
    "        layers.Dropout(.1),\n",
    "        BatchNormalization(),\n",
    "\n",
    "        layers.Dense(16, activation='relu'),\n",
    "        layers.Dropout(.1),\n",
    "        BatchNormalization(),\n",
    "\n",
    "        layers.Dense(8, activation='relu'),\n",
    "        BatchNormalization(),\n",
    "\n",
    "        layers.Dense(1)\n",
    "        ])\n",
    "\n",
    "    model.compile(loss='mean_absolute_error', metrics=[r2], optimizer=Adam(lr))\n",
    "    return model"
   ],
   "metadata": {
    "collapsed": false,
    "pycharm": {
     "name": "#%%\n"
    }
   }
  },
  {
   "cell_type": "code",
   "execution_count": 89,
   "outputs": [],
   "source": [
    "m = build_and_compile_model()"
   ],
   "metadata": {
    "collapsed": false,
    "pycharm": {
     "name": "#%%\n"
    }
   }
  },
  {
   "cell_type": "code",
   "execution_count": 66,
   "outputs": [],
   "source": [
    "m.build(input_shape=[None, 12])\n",
    "# m.save(\"asset/models/base_model.h5\")"
   ],
   "metadata": {
    "collapsed": false,
    "pycharm": {
     "name": "#%%\n"
    }
   }
  },
  {
   "cell_type": "code",
   "execution_count": 90,
   "outputs": [
    {
     "name": "stdout",
     "output_type": "stream",
     "text": [
      "Epoch 1/200\n",
      "57329/57329 [==============================] - 81s 1ms/step - loss: 0.2376 - r2: 0.2505 - val_loss: 0.1085 - val_r2: 0.0292\n",
      "\n",
      "Epoch 00001: val_loss improved from inf to 0.10851, saving model to asset/models\\DNN_Regressor.h5\n",
      "Epoch 2/200\n",
      "57329/57329 [==============================] - 79s 1ms/step - loss: 0.1208 - r2: 0.6652 - val_loss: 0.0964 - val_r2: 0.3028\n",
      "\n",
      "Epoch 00002: val_loss improved from 0.10851 to 0.09644, saving model to asset/models\\DNN_Regressor.h5\n",
      "Epoch 3/200\n",
      "57329/57329 [==============================] - 81s 1ms/step - loss: 0.1003 - r2: 0.7731 - val_loss: 0.0863 - val_r2: 0.7697\n",
      "\n",
      "Epoch 00003: val_loss improved from 0.09644 to 0.08626, saving model to asset/models\\DNN_Regressor.h5\n",
      "Epoch 4/200\n",
      "57329/57329 [==============================] - 81s 1ms/step - loss: 0.0870 - r2: 0.8354 - val_loss: 0.0971 - val_r2: 0.8477\n",
      "\n",
      "Epoch 00004: val_loss did not improve from 0.08626\n",
      "Epoch 5/200\n",
      "57329/57329 [==============================] - 83s 1ms/step - loss: 0.0825 - r2: 0.8519 - val_loss: 0.0854 - val_r2: 0.8856\n",
      "\n",
      "Epoch 00005: val_loss improved from 0.08626 to 0.08545, saving model to asset/models\\DNN_Regressor.h5\n",
      "Epoch 6/200\n",
      "57329/57329 [==============================] - 81s 1ms/step - loss: 0.0801 - r2: 0.8657 - val_loss: 0.1039 - val_r2: 0.8333\n",
      "\n",
      "Epoch 00006: val_loss did not improve from 0.08545\n",
      "Epoch 7/200\n",
      "57329/57329 [==============================] - 80s 1ms/step - loss: 0.0785 - r2: 0.8732 - val_loss: 0.0742 - val_r2: 0.9370\n",
      "\n",
      "Epoch 00007: val_loss improved from 0.08545 to 0.07416, saving model to asset/models\\DNN_Regressor.h5\n",
      "Epoch 8/200\n",
      "57329/57329 [==============================] - 81s 1ms/step - loss: 0.0786 - r2: 0.8740 - val_loss: 0.0749 - val_r2: 0.9231\n",
      "\n",
      "Epoch 00008: val_loss did not improve from 0.07416\n",
      "Epoch 9/200\n",
      "57329/57329 [==============================] - 79s 1ms/step - loss: 0.0784 - r2: 0.8736 - val_loss: 0.0905 - val_r2: 0.8806\n",
      "\n",
      "Epoch 00009: val_loss did not improve from 0.07416\n",
      "Epoch 10/200\n",
      "57329/57329 [==============================] - 81s 1ms/step - loss: 0.0779 - r2: 0.8769 - val_loss: 0.0680 - val_r2: 0.9487\n",
      "\n",
      "Epoch 00010: val_loss improved from 0.07416 to 0.06795, saving model to asset/models\\DNN_Regressor.h5\n",
      "Epoch 11/200\n",
      "57329/57329 [==============================] - 81s 1ms/step - loss: 0.0779 - r2: 0.8772 - val_loss: 0.0688 - val_r2: 0.9403\n",
      "\n",
      "Epoch 00011: val_loss did not improve from 0.06795\n",
      "Epoch 12/200\n",
      "57329/57329 [==============================] - 79s 1ms/step - loss: 0.0774 - r2: 0.8791 - val_loss: 0.0971 - val_r2: 0.8616\n",
      "\n",
      "Epoch 00012: val_loss did not improve from 0.06795\n",
      "Epoch 13/200\n",
      "57329/57329 [==============================] - 76s 1ms/step - loss: 0.0772 - r2: 0.8798 - val_loss: 0.0903 - val_r2: 0.9004\n",
      "\n",
      "Epoch 00013: val_loss did not improve from 0.06795\n",
      "Epoch 14/200\n",
      "57329/57329 [==============================] - 77s 1ms/step - loss: 0.0773 - r2: 0.8785 - val_loss: 0.0887 - val_r2: 0.8828\n",
      "\n",
      "Epoch 00014: val_loss did not improve from 0.06795\n",
      "Epoch 15/200\n",
      "57329/57329 [==============================] - 77s 1ms/step - loss: 0.0773 - r2: 0.8795 - val_loss: 0.0756 - val_r2: 0.9141\n",
      "\n",
      "Epoch 00015: val_loss did not improve from 0.06795\n"
     ]
    }
   ],
   "source": [
    "hist = m.fit(X, y, validation_split=.15, epochs=epochs, callbacks=[checkpoint_callback, es_callback])"
   ],
   "metadata": {
    "collapsed": false,
    "pycharm": {
     "name": "#%%\n"
    }
   }
  },
  {
   "cell_type": "code",
   "execution_count": 91,
   "outputs": [
    {
     "data": {
      "text/plain": "[<matplotlib.lines.Line2D at 0x1de0816faf0>]"
     },
     "execution_count": 91,
     "metadata": {},
     "output_type": "execute_result"
    },
    {
     "data": {
      "text/plain": "<Figure size 720x360 with 2 Axes>",
      "image/png": "[encoded data removed]"
     },
     "metadata": {},
     "output_type": "display_data"
    }
   ],
   "source": [
    "fig, axes = plt.subplots(nrows=1, ncols=2, figsize=(10, 5))\n",
    "axes = axes.ravel()\n",
    "axes[1].set_ylim(-1, 1)\n",
    "axes[0].plot(range(1, len(hist.history[\"loss\"])+1), hist.history[\"loss\"], label=\"loss\")\n",
    "axes[0].plot(range(1, len(hist.history[\"loss\"])+1), hist.history[\"val_loss\"], label=\"val_loss\")\n",
    "axes[1].plot(range(1, len(hist.history[\"loss\"])+1), hist.history[\"r2\"], label=\"r2\")\n",
    "axes[1].plot(range(1, len(hist.history[\"loss\"])+1), hist.history[\"val_r2\"], label=\"val_r2\")"
   ],
   "metadata": {
    "collapsed": false,
    "pycharm": {
     "name": "#%%\n"
    }
   }
  },
  {
   "cell_type": "code",
   "execution_count": 15,
   "outputs": [
    {
     "data": {
      "text/plain": "array([ 0.,  0.,  0., ...,  0.,  0., -1.])"
     },
     "execution_count": 15,
     "metadata": {},
     "output_type": "execute_result"
    }
   ],
   "source": [
    "y"
   ],
   "metadata": {
    "collapsed": false,
    "pycharm": {
     "name": "#%%\n"
    }
   }
  },
  {
   "cell_type": "code",
   "execution_count": 20,
   "outputs": [
    {
     "data": {
      "text/plain": "array([[0.65233237]], dtype=float32)"
     },
     "execution_count": 20,
     "metadata": {},
     "output_type": "execute_result"
    }
   ],
   "source": [
    "m.predict(X[1113974].reshape(1, -1))"
   ],
   "metadata": {
    "collapsed": false,
    "pycharm": {
     "name": "#%%\n"
    }
   }
  },
  {
   "cell_type": "markdown",
   "source": [],
   "metadata": {
    "collapsed": false,
    "pycharm": {
     "name": "#%% md\n"
    }
   }
  },
  {
   "cell_type": "code",
   "execution_count": 109,
   "outputs": [],
   "source": [
    "a = keras.models.load_model(\"asset/models/DNN_Regressor.h5\", custom_objects={\"r2\": r2})\n"
   ],
   "metadata": {
    "collapsed": false,
    "pycharm": {
     "name": "#%%\n"
    }
   }
  }
 ],
 "metadata": {
  "kernelspec": {
   "display_name": "Python 3",
   "language": "python",
   "name": "python3"
  },
  "language_info": {
   "codemirror_mode": {
    "name": "ipython",
    "version": 2
   },
   "file_extension": ".py",
   "mimetype": "text/x-python",
   "name": "python",
   "nbconvert_exporter": "python",
   "pygments_lexer": "ipython2",
   "version": "2.7.6"
  }
 },
 "nbformat": 4,
 "nbformat_minor": 0
}